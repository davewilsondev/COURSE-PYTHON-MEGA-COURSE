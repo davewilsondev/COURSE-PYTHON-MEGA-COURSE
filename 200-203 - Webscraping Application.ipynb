{
 "cells": [
  {
   "cell_type": "code",
   "execution_count": 1,
   "metadata": {},
   "outputs": [],
   "source": [
    "# structure data from websites so that it can be used. \n",
    "# Save them in a CSV file. \n",
    "\n",
    "\n",
    "# https://pythonhow.com/real-estate/rock-springs-wy/LCWYROCKSPRINGS/"
   ]
  },
  {
   "cell_type": "code",
   "execution_count": 2,
   "metadata": {},
   "outputs": [],
   "source": [
    "import requests\n",
    "from bs4 import BeautifulSoup"
   ]
  },
  {
   "cell_type": "code",
   "execution_count": 31,
   "metadata": {},
   "outputs": [],
   "source": [
    "r = requests.get(r\"https://pythonhow.com/real-estate/rock-springs-wy/LCWYROCKSPRINGS/\")\n",
    "\n",
    "c = r.content"
   ]
  },
  {
   "cell_type": "code",
   "execution_count": 10,
   "metadata": {},
   "outputs": [],
   "source": [
    "soup = BeautifulSoup(c, \"html.parser\")"
   ]
  },
  {
   "cell_type": "code",
   "execution_count": 35,
   "metadata": {},
   "outputs": [],
   "source": [
    "# this make it more readible \n",
    "#print(soup.prettify())"
   ]
  },
  {
   "cell_type": "code",
   "execution_count": 36,
   "metadata": {},
   "outputs": [],
   "source": [
    "all = soup.find_all(\"div\", {\"class\":\"propertyRow\"})"
   ]
  },
  {
   "cell_type": "code",
   "execution_count": 37,
   "metadata": {},
   "outputs": [
    {
     "data": {
      "text/plain": [
       "10"
      ]
     },
     "execution_count": 37,
     "metadata": {},
     "output_type": "execute_result"
    }
   ],
   "source": [
    "# finds the length of all of these.\n",
    "len(all)\n",
    "\n",
    "# works out the type of all\n",
    "type(all)\n",
    "\n",
    "#created a for loop that loops through the information on this page\n",
    "\n",
    "lis = []\n",
    "\n",
    "for i in range(len(all)):\n",
    "    a = all[i].find(\"h4\",{\"class\":\"propPrice\"}).text.replace(\"\\n\",\"\").replace(\" \", \"\")\n",
    "    lis.append(a)\n",
    "\n",
    "print(lis)\n",
    "\n",
    "##you can use shift + m to merge cells together"
   ]
  },
  {
   "cell_type": "markdown",
   "metadata": {},
   "source": [
    "---"
   ]
  },
  {
   "cell_type": "code",
   "execution_count": 34,
   "metadata": {},
   "outputs": [],
   "source": [
    "import requests\n",
    "from bs4 import BeautifulSoup\n",
    "\n",
    "r = requests.get(r\"https://pythonhow.com/real-estate/rock-springs-wy/LCWYROCKSPRINGS/\")\n",
    "c = r.content\n",
    "\n",
    "soup = BeautifulSoup(c, \"html.parser\")\n",
    "\n",
    "all = soup.find_all(\"div\", {\"class\":\"propertyRow\"})\n",
    "\n",
    "a = all[0].find(\"h4\",{\"class\":\"propPrice\"}).text.replace(\"\\n\",\"\").replace(\" \", \"\")"
   ]
  },
  {
   "cell_type": "code",
   "execution_count": 52,
   "metadata": {},
   "outputs": [
    {
     "name": "stdout",
     "output_type": "stream",
     "text": [
      "$725,000\n",
      "0 Gateway\n",
      "Rock Springs, WY 82901\n",
      "None\n",
      "None\n",
      "None\n",
      "None\n",
      " \n",
      "$452,900\n",
      "1003 Winchester Blvd.\n",
      "Rock Springs, WY 82901\n",
      "4\n",
      "None\n",
      "4\n",
      "None\n",
      " \n",
      "$396,900\n",
      "600 Talladega\n",
      "Rock Springs, WY 82901\n",
      "5\n",
      "3,154\n",
      "3\n",
      "None\n",
      " \n",
      "$389,900\n",
      "3239 Spearhead Way\n",
      "Rock Springs, WY 82901\n",
      "4\n",
      "3,076\n",
      "3\n",
      "1\n",
      " \n",
      "$254,000\n",
      "522 Emerald Street\n",
      "Rock Springs, WY 82901\n",
      "3\n",
      "1,172\n",
      "3\n",
      "None\n",
      " \n",
      "$252,900\n",
      "1302 Veteran's Drive\n",
      "Rock Springs, WY 82901\n",
      "4\n",
      "1,932\n",
      "2\n",
      "None\n",
      " \n",
      "$210,000\n",
      "1021 Cypress Cir\n",
      "Rock Springs, WY 82901\n",
      "4\n",
      "1,676\n",
      "3\n",
      "None\n",
      " \n",
      "$209,000\n",
      "913 Madison Dr\n",
      "Rock Springs, WY 82901\n",
      "3\n",
      "1,344\n",
      "2\n",
      "None\n",
      " \n",
      "$199,900\n",
      "1344 Teton Street\n",
      "Rock Springs, WY 82901\n",
      "3\n",
      "1,920\n",
      "2\n",
      "None\n",
      " \n",
      "$196,900\n",
      "4 Minnies Lane\n",
      "Rock Springs, WY 82901\n",
      "3\n",
      "1,664\n",
      "2\n",
      "None\n",
      " \n"
     ]
    }
   ],
   "source": [
    "for item in all:\n",
    "    print(item.find(\"h4\",{\"class\":\"propPrice\"}).text.replace(\"\\n\",\"\").replace(\" \", \"\"))\n",
    "    print(item.find_all(\"span\", {\"class\" :\"propAddressCollapse\"})[0].text)\n",
    "    print(item.find_all(\"span\", {\"class\" :\"propAddressCollapse\"})[1].text)\n",
    "    try:\n",
    "        print(item.find(\"span\", {\"class\":\"infoBed\"}).find(\"b\").text)\n",
    "    except:\n",
    "        print(None)\n",
    "    try:\n",
    "        print(item.find(\"span\", {\"class\":\"infoSqFt\"}).find(\"b\").text)\n",
    "    except:\n",
    "        print(None)\n",
    "    try:\n",
    "        print(item.find(\"span\", {\"class\":\"infoValueFullBath\"}).find(\"b\").text)\n",
    "    except:\n",
    "        print(None)\n",
    "    try:\n",
    "        print(item.find(\"span\", {\"class\":\"infoValueHalfBath\"}).find(\"b\").text)\n",
    "    except:\n",
    "        print(None)\n",
    "    print(\" \")"
   ]
  },
  {
   "cell_type": "code",
   "execution_count": 53,
   "metadata": {},
   "outputs": [],
   "source": [
    "#continue on lecture 204"
   ]
  },
  {
   "cell_type": "code",
   "execution_count": null,
   "metadata": {},
   "outputs": [],
   "source": []
  }
 ],
 "metadata": {
  "kernelspec": {
   "display_name": "Python 3",
   "language": "python",
   "name": "python3"
  },
  "language_info": {
   "codemirror_mode": {
    "name": "ipython",
    "version": 3
   },
   "file_extension": ".py",
   "mimetype": "text/x-python",
   "name": "python",
   "nbconvert_exporter": "python",
   "pygments_lexer": "ipython3",
   "version": "3.6.4"
  }
 },
 "nbformat": 4,
 "nbformat_minor": 2
}
